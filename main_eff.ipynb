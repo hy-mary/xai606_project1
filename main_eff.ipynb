{
 "cells": [
  {
   "cell_type": "code",
   "execution_count": null,
   "id": "00562db1",
   "metadata": {},
   "outputs": [],
   "source": [
    "# Importing libraries\n",
    "import pandas as pd\n",
    "import csv\n",
    "import json\n",
    "from PIL import Image\n",
    "import os\n",
    "from tqdm import tqdm\n",
    "import torch\n",
    "import torch.nn as nn\n",
    "import numpy as np\n",
    "import torchvision\n",
    "import torchvision.transforms as transforms\n",
    "from torch.utils.data import Dataset, DataLoader\n",
    "from sklearn.model_selection import train_test_split"
   ]
  },
  {
   "cell_type": "code",
   "execution_count": null,
   "id": "78d50b86",
   "metadata": {},
   "outputs": [],
   "source": [
    "# Method for getting data\n",
    "class GetData(Dataset):\n",
    "    def __init__(self, Dir, FNames, Labels, Transform):\n",
    "        self.dir = Dir\n",
    "        self.fnames = FNames\n",
    "        self.transform = Transform\n",
    "        self.lbs = Labels\n",
    "\n",
    "    def __len__(self):\n",
    "        return len(self.fnames)\n",
    "\n",
    "    def __getitem__(self, index):\n",
    "        x = Image.open(os.path.join(self.dir, self.fnames[index]))\n",
    "        if \"train\" in self.dir:\n",
    "            return self.transform(x), self.lbs[index]\n",
    "        elif \"test\" in self.dir:\n",
    "            return self.transform(x), self.lbs[index]"
   ]
  },
  {
   "cell_type": "code",
   "execution_count": null,
   "id": "5d8dda59",
   "metadata": {},
   "outputs": [],
   "source": [
    "# Experiment setting\n",
    "BATCH = 32  # Batch size\n",
    "EFF_EPOCHS = 100  # total number of epochs\n",
    "LR = 1e-3  # learning rate\n",
    "IM_SIZE = 256  # image size\n",
    "NUM_CLS = 5\n",
    "\n",
    "# Device setting\n",
    "os.environ[\"CUDA_DEVICE_ORDER\"]=\"PCI_BUS_ID\"\n",
    "os.environ[\"CUDA_VISIBLE_DEVICES\"] = \"1, 2, 3, 4\"\n",
    "DEVICE = torch.device(\"cuda:0\" if torch.cuda.is_available() else \"cpu\")\n",
    "\n",
    "# Paths for train and test images\n",
    "raw_path = '/home/user/disk2/mary/xai606/raw_data/'\n",
    "data_path = '/home/user/disk2/mary/xai606/final_dataset/'\n",
    "train_path = f\"{data_path}train_images\"\n",
    "test_path = f\"{data_path}test_images\"\n",
    "effmodel_path = '/home/user/disk2/mary/xai606/models/effmodel.pt'\n",
    "label_map = 'label_num_to_disease_map.json'"
   ]
  },
  {
   "cell_type": "code",
   "execution_count": null,
   "id": "9556ab2e",
   "metadata": {},
   "outputs": [],
   "source": [
    "with open(raw_path+label_map, encoding='utf-8') as f:\n",
    "    label_info = json.load(f)\n",
    "print(json.dumps(label_info, indent=1))"
   ]
  },
  {
   "cell_type": "code",
   "execution_count": null,
   "id": "c58b1173",
   "metadata": {},
   "outputs": [],
   "source": [
    "# Train and test data and corresponding Labels for train images\n",
    "labels = json.load(open(f\"{raw_path}{label_map}\"))\n",
    "train = pd.read_csv(f'{data_path}/train.csv')\n",
    "test = pd.read_csv(f'{data_path}/test.csv')\n",
    "X_train, y_train = train['image_id'].values, train['label'].values\n",
    "X_train, X_val, y_train, y_val = train_test_split(X_train, y_train, test_size=0.25, random_state=42, shuffle=True, stratify=y_train)\n",
    "X_test, y_test = test['image_id'].values, test['label'].values\n",
    "print(X_train.shape, X_val.shape, X_test.shape)\n",
    "# X_Test = [name for name in (os.listdir(TEST_DIR))]\n"
   ]
  },
  {
   "cell_type": "code",
   "execution_count": null,
   "id": "3a7223a7",
   "metadata": {},
   "outputs": [],
   "source": [
    "# Data loading\n",
    "Transform = transforms.Compose(\n",
    "    [transforms.Resize((IM_SIZE, IM_SIZE)),\n",
    "     transforms.RandomRotation(90),\n",
    "     transforms.RandomHorizontalFlip(p=0.5),\n",
    "     transforms.ToTensor(),\n",
    "     transforms.Normalize((0.485, 0.456, 0.406), (0.229, 0.224, 0.225))])\n",
    "\n",
    "trainset = GetData(train_path, X_train, y_train, Transform)\n",
    "trainloader = DataLoader(trainset, batch_size=BATCH, shuffle=True, num_workers=2)\n",
    "\n",
    "valset = GetData(train_path, X_val, y_val, Transform)\n",
    "valloader = DataLoader(valset, batch_size=BATCH, shuffle=True, num_workers=2)\n",
    "\n",
    "testset = GetData(test_path, X_test, y_test, Transform)\n",
    "testloader = DataLoader(testset, batch_size=BATCH, shuffle=False, num_workers=2)"
   ]
  },
  {
   "cell_type": "code",
   "execution_count": null,
   "id": "d239a23c",
   "metadata": {},
   "outputs": [],
   "source": [
    "# Model download\n",
    "torch.hub._validate_not_a_forked_repo=lambda a,b,c: True\n",
    "model_a = torch.hub.load('hankyul2/EfficientNetV2-pytorch', 'efficientnet_v2_s', \n",
    "                         pretrained=True, dropout=0.2, stochastic_depth=0.0)"
   ]
  },
  {
   "cell_type": "code",
   "execution_count": null,
   "id": "3f0f8ab3",
   "metadata": {},
   "outputs": [],
   "source": [
    "model_a.head.classifier = nn.Linear(1280, NUM_CLS, bias = True)\n",
    "model_b = model_a.cuda()\n",
    "effmodel = nn.DataParallel(model_b).to(DEVICE)\n",
    "effmodel = effmodel.to(DEVICE) # Load model to device.\n",
    "\n",
    "criterion = nn.CrossEntropyLoss()\n",
    "optimizer = torch.optim.Adam(effmodel.parameters(), lr=LR)"
   ]
  },
  {
   "cell_type": "code",
   "execution_count": null,
   "id": "08676d05",
   "metadata": {
    "scrolled": true
   },
   "outputs": [],
   "source": [
    "# Training stage\n",
    "min_eval_loss = 99999\n",
    "for epoch in range(EFF_EPOCHS):\n",
    "    train_loss = 0.0\n",
    "    train_acc = 0.0\n",
    "    \n",
    "    tr_loss_l = []\n",
    "    tr_acc_l = []\n",
    "    val_loss_l = []\n",
    "    val_acc_l = []\n",
    "\n",
    "    effmodel = effmodel.train()\n",
    "\n",
    "    for i, (images, labels) in enumerate(tqdm(trainloader)):\n",
    "        images = images.to(DEVICE)\n",
    "        labels = labels.to(DEVICE)\n",
    "\n",
    "        logits = effmodel(images)\n",
    "        loss = criterion(logits, labels)\n",
    "        optimizer.zero_grad()\n",
    "        loss.backward()\n",
    "        optimizer.step()\n",
    "\n",
    "        train_loss += loss.detach().item()\n",
    "        _, predicted = torch.max(logits, 1)\n",
    "        train_acc += (predicted == labels).sum().item()\n",
    "        \n",
    "    \n",
    "    print('Epoch: %d | train_loss: %.4f' % (epoch+1, train_loss / i))\n",
    "    print('Epoch: %d | train_acc: %.4f' % (epoch+1, train_acc / len(trainset)))\n",
    "    tr_loss_l.append(train_loss / i)\n",
    "    tr_acc_l.append(train_acc / len(trainset))\n",
    "\n",
    "    effmodel.eval()\n",
    "    \n",
    "    val_loss = 0.0\n",
    "    val_acc = 0.0\n",
    "    for i, (images, labels) in enumerate(tqdm(valloader)):\n",
    "        images = images.to(DEVICE)\n",
    "        labels = labels.to(DEVICE)\n",
    "\n",
    "        # att_map, logits = effmodel(images)\n",
    "        logits = effmodel(images)\n",
    "        val_loss = criterion(logits, labels)\n",
    "\n",
    "        val_loss += val_loss.detach().item()\n",
    "        val_loss = val_loss.detach().cpu().numpy()\n",
    "        _, predicted = torch.max(logits, 1)\n",
    "        val_acc += (predicted == labels).sum().item()\n",
    "        \n",
    "\n",
    "    print('Epoch: %d | val_loss: %.4f' % (epoch+1, val_loss / i), end=\"\\t\")\n",
    "    print('Epoch: %d | val_acc: %.4f' % (epoch+1, val_acc / len(valset)))\n",
    "    val_loss_l.append(val_loss / i)\n",
    "    val_acc_l.append(val_acc / len(valset))\n",
    "    \n",
    "    if val_loss < min_eval_loss:\n",
    "        print(f\"Val loss {min_eval_loss} to {val_loss} upgrade, and save model {effmodel_path}\")\n",
    "        min_eval_loss = val_loss\n",
    "        torch.save(effmodel, effmodel_path)\n"
   ]
  },
  {
   "cell_type": "code",
   "execution_count": null,
   "id": "c2eed553",
   "metadata": {},
   "outputs": [],
   "source": [
    "keys = ['train_acc', 'train_loss', 'val_acc', 'val_loss']\n",
    "values = [tr_acc_l, tr_loss_l,  val_acc_l, val_loss_l]\n",
    "train_results = {keys[i]: values[i] for i in range(len(keys))}"
   ]
  },
  {
   "cell_type": "code",
   "execution_count": null,
   "id": "73cd36aa",
   "metadata": {},
   "outputs": [],
   "source": [
    "train_results"
   ]
  },
  {
   "cell_type": "code",
   "execution_count": null,
   "id": "df9f6541",
   "metadata": {},
   "outputs": [],
   "source": [
    "train_df = pd.DataFrame.transpose(pd.DataFrame(train_results))\n",
    "train_df.to_csv (f\"./effmodel_train_results.csv\", index = True, header=True)"
   ]
  },
  {
   "cell_type": "code",
   "execution_count": null,
   "id": "0392c141",
   "metadata": {},
   "outputs": [],
   "source": [
    "effmodel = torch.load(effmodel_path)\n",
    "effmodel.eval()\n",
    "\n",
    "test_loss = 0.0\n",
    "test_acc = 0.0\n",
    "test_loss_l = []\n",
    "test_acc_l = []\n",
    "\n",
    "for i, (images, labels) in enumerate(tqdm(testloader)):\n",
    "    images = images.to(DEVICE)\n",
    "    labels = labels.to(DEVICE)\n",
    "\n",
    "    # att_map, logits = effmodel(images)\n",
    "    logits = effmodel(images)\n",
    "    test_loss = criterion(logits, labels)\n",
    "\n",
    "    test_loss += test_loss.detach().item()\n",
    "    _, predicted = torch.max(logits, 1)\n",
    "    test_acc += (predicted == labels).sum().item()\n",
    "print('Epoch: %d | Test Loss: %.4f' % (EFF_EPOCHS+1, test_loss / i), end=\"\\t\")\n",
    "print('Epoch: %d | Test Acc: %.4f' % (EFF_EPOCHS+1, test_acc / len(testset)))\n",
    "test_acc_l.append(test_acc / len(testset))\n",
    "test_loss_l.append(test_loss / i)"
   ]
  },
  {
   "cell_type": "code",
   "execution_count": null,
   "id": "2a01bc6f",
   "metadata": {},
   "outputs": [],
   "source": [
    "# keys = ['test_acc', 'test_loss']\n",
    "# values = [test_acc_l, test_loss_l]\n",
    "# test_results = {keys[i]: values[i] for i in range(len(keys))}\n",
    "\n",
    "# test_df = pd.DataFrame.transpose(pd.DataFrame(test_results))\n",
    "# train_df.to_csv (f\"./effmodel_test_results.csv\", index = True, header=True)"
   ]
  }
 ],
 "metadata": {
  "kernelspec": {
   "display_name": "Python 3",
   "language": "python",
   "name": "python3"
  },
  "language_info": {
   "codemirror_mode": {
    "name": "ipython",
    "version": 3
   },
   "file_extension": ".py",
   "mimetype": "text/x-python",
   "name": "python",
   "nbconvert_exporter": "python",
   "pygments_lexer": "ipython3",
   "version": "3.7.10"
  }
 },
 "nbformat": 4,
 "nbformat_minor": 5
}
