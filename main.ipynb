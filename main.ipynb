{
 "cells": [
  {
   "cell_type": "code",
   "execution_count": null,
   "id": "e2fe153c",
   "metadata": {},
   "outputs": [],
   "source": [
    "# Importing libraries\n",
    "import pandas as pd\n",
    "import numpy as np\n",
    "import csv\n",
    "import json\n",
    "from PIL import Image\n",
    "import os\n",
    "from tqdm import tqdm\n",
    "import torch\n",
    "import torch.nn as nn\n",
    "import torchvision\n",
    "import torchvision.transforms as transforms\n",
    "from torch.utils.data import Dataset, DataLoader\n",
    "from sklearn.model_selection import train_test_split"
   ]
  },
  {
   "cell_type": "code",
   "execution_count": null,
   "id": "a69ec0e2",
   "metadata": {},
   "outputs": [],
   "source": [
    "# Method for getting data\n",
    "class GetData(Dataset):\n",
    "    def __init__(self, Dir, FNames, Labels, Transform):\n",
    "        self.dir = Dir\n",
    "        self.fnames = FNames\n",
    "        self.transform = Transform\n",
    "        self.lbs = Labels\n",
    "\n",
    "    def __len__(self):\n",
    "        return len(self.fnames)\n",
    "\n",
    "    def __getitem__(self, index):\n",
    "        x = Image.open(os.path.join(self.dir, self.fnames[index]))\n",
    "        if \"train\" in self.dir:\n",
    "            return self.transform(x), self.lbs[index]\n",
    "        elif \"test\" in self.dir:\n",
    "            return self.transform(x), self.lbs[index]"
   ]
  },
  {
   "cell_type": "code",
   "execution_count": null,
   "id": "ea9fae86",
   "metadata": {},
   "outputs": [],
   "source": [
    "# Experiment setting\n",
    "NUM_CLS = 5\n",
    "BATCH = 32  # Batch size\n",
    "EPOCHS = 20  # total number of epochs\n",
    "LR = 1e-3  # learning rate\n",
    "IM_SIZE = 256  # image size\n",
    "\n",
    "# Device setting\n",
    "os.environ[\"CUDA_DEVICE_ORDER\"]=\"PCI_BUS_ID\"\n",
    "os.environ[\"CUDA_VISIBLE_DEVICES\"] = \"1, 2, 3, 4\"\n",
    "DEVICE = torch.device(\"cuda:0\" if torch.cuda.is_available() else \"cpu\")\n",
    "\n",
    "# Paths for train and test images\n",
    "raw_path = '/home/user/disk2/mary/xai606/raw_data/'\n",
    "data_path = '/home/user/disk2/mary/xai606/final_dataset/'\n",
    "train_path = f\"{data_path}train_images\"\n",
    "test_path = f\"{data_path}test_images\"\n",
    "model_path = '/home/user/disk2/mary/xai606/models/basemodel.pt'\n",
    "label_map = 'label_num_to_disease_map.json'"
   ]
  },
  {
   "cell_type": "code",
   "execution_count": null,
   "id": "09080609",
   "metadata": {},
   "outputs": [],
   "source": [
    "with open(raw_path+label_map, encoding='utf-8') as f:\n",
    "    label_info = json.load(f)\n",
    "print(json.dumps(label_info, indent=1))"
   ]
  },
  {
   "cell_type": "code",
   "execution_count": null,
   "id": "4afd8945",
   "metadata": {},
   "outputs": [],
   "source": [
    "# Train and test data and corresponding Labels for train images\n",
    "labels = json.load(open(f\"{raw_path}{label_map}\"))\n",
    "train = pd.read_csv(f'{data_path}/train.csv')\n",
    "test = pd.read_csv(f'{data_path}/test.csv')\n",
    "X_train, y_train = train['image_id'].values, train['label'].values\n",
    "X_train, X_val, y_train, y_val = train_test_split(X_train, y_train, test_size=0.25, \n",
    "                                                  random_state=2022011107, shuffle=True, stratify=y_train)\n",
    "X_test, y_test = test['image_id'].values, test['label'].values\n",
    "print(X_train.shape, X_val.shape, X_test.shape)\n"
   ]
  },
  {
   "cell_type": "code",
   "execution_count": null,
   "id": "70002b33",
   "metadata": {},
   "outputs": [],
   "source": [
    "# Data loading\n",
    "Transform = transforms.Compose(\n",
    "    [transforms.Resize((IM_SIZE, IM_SIZE)),\n",
    "     transforms.RandomRotation(90),\n",
    "     transforms.RandomHorizontalFlip(p=0.5),\n",
    "     transforms.ToTensor(),\n",
    "     transforms.Normalize((0.485, 0.456, 0.406), (0.229, 0.224, 0.225))])\n",
    "\n",
    "trainset = GetData(train_path, X_train, y_train, Transform)\n",
    "trainloader = DataLoader(trainset, batch_size=BATCH, shuffle=True, num_workers=2)\n",
    "\n",
    "valset = GetData(train_path, X_val, y_val, Transform)\n",
    "valloader = DataLoader(valset, batch_size=BATCH, shuffle=True, num_workers=2)\n",
    "\n",
    "testset = GetData(test_path, X_test, y_test, Transform)\n",
    "testloader = DataLoader(testset, batch_size=BATCH, shuffle=False, num_workers=2)"
   ]
  },
  {
   "cell_type": "code",
   "execution_count": null,
   "id": "fcf18eab",
   "metadata": {},
   "outputs": [],
   "source": [
    "# Model, criterion, and optimizer\n",
    "model_a = torchvision.models.resnet152()\n",
    "model_a.fc = nn.Linear(8192, 5, bias=True)\n",
    "model_b = model_a.cuda()\n",
    "model = nn.DataParallel(model_b).to(DEVICE)\n",
    "\n",
    "criterion = nn.CrossEntropyLoss()\n",
    "optimizer = torch.optim.Adam(model.parameters(), lr=LR)"
   ]
  },
  {
   "cell_type": "code",
   "execution_count": null,
   "id": "a7b67df9",
   "metadata": {},
   "outputs": [],
   "source": [
    "# Training stage\n",
    "min_eval_loss = 99999\n",
    "for epoch in range(EPOCHS):\n",
    "    train_loss = 0.0\n",
    "    train_acc = 0.0\n",
    "    \n",
    "    tr_loss_l = []\n",
    "    tr_acc_l = []\n",
    "    val_loss_l = []\n",
    "    val_acc_l = []\n",
    "\n",
    "    model = model.train()\n",
    "\n",
    "    for i, (images, labels) in enumerate(tqdm(trainloader)):\n",
    "        images = images.to(DEVICE)\n",
    "        labels = labels.to(DEVICE)\n",
    "\n",
    "        logits = model(images)\n",
    "        loss = criterion(logits, labels)\n",
    "        optimizer.zero_grad()\n",
    "        loss.backward()\n",
    "        optimizer.step()\n",
    "\n",
    "        train_loss += loss.detach().item()\n",
    "        _, predicted = torch.max(logits, 1)\n",
    "        train_acc += (predicted == labels).sum().item()\n",
    "        \n",
    "    print('Epoch: %d | train_loss: %.4f' % (epoch+1, train_loss / i))\n",
    "    print('Epoch: %d | train_acc: %.4f' % (epoch+1, train_acc / len(trainset)))\n",
    "    tr_loss_l.append(train_loss / i)\n",
    "    tr_acc_l.append(train_acc / len(trainset))\n",
    "\n",
    "    model.eval()\n",
    "    \n",
    "    val_loss = 0.0\n",
    "    val_acc = 0.0\n",
    "    for i, (images, labels) in enumerate(tqdm(valloader)):\n",
    "        images = images.to(DEVICE)\n",
    "        labels = labels.to(DEVICE)\n",
    "\n",
    "        # att_map, logits = model(images)\n",
    "        logits = model(images)\n",
    "        val_loss = criterion(logits, labels)\n",
    "\n",
    "        val_loss += val_loss.detach().item()\n",
    "        val_loss = val_loss.detach().cpu().numpy()\n",
    "        _, predicted = torch.max(logits, 1)\n",
    "        val_acc += (predicted == labels).sum().item()\n",
    "        \n",
    "    print('Epoch: %d | val_loss: %.4f' % (epoch+1, val_loss / i), end=\"\\t\")\n",
    "    print('Epoch: %d | val_acc: %.4f' % (epoch+1, val_acc / len(valset)))\n",
    "    val_loss_l.append(val_loss / i)\n",
    "    val_acc_l.append(val_acc / len(valset))\n",
    "    \n",
    "    if val_loss < min_eval_loss:\n",
    "        print(f\"Val loss{min_eval_loss} to {val_loss} upgrade, and save model {model_path}\")\n",
    "        min_eval_loss = val_loss\n",
    "        torch.save(model, model_path)"
   ]
  },
  {
   "cell_type": "code",
   "execution_count": null,
   "id": "1c78316f",
   "metadata": {},
   "outputs": [],
   "source": [
    "keys = ['train_acc', 'train_loss', 'val_acc', 'val_loss']\n",
    "values = [tr_acc_l, tr_loss_l,  val_acc_l, val_loss_l]\n",
    "train_results = {keys[i]: values[i] for i in range(len(keys))}"
   ]
  },
  {
   "cell_type": "code",
   "execution_count": null,
   "id": "6d1bdb6f",
   "metadata": {},
   "outputs": [],
   "source": [
    "train_results"
   ]
  },
  {
   "cell_type": "code",
   "execution_count": null,
   "id": "59034836",
   "metadata": {},
   "outputs": [],
   "source": [
    "train_df = pd.DataFrame.transpose(pd.DataFrame(train_results))\n",
    "train_df.to_csv (f\"./basemodel_train_results.csv\", index = True, header=True)"
   ]
  },
  {
   "cell_type": "code",
   "execution_count": null,
   "id": "36c7b43c",
   "metadata": {},
   "outputs": [],
   "source": [
    "basemodel = torch.load(model_path)\n",
    "basemodel.eval()\n",
    "\n",
    "test_loss = 0.0\n",
    "test_acc = 0.0\n",
    "test_loss_l = []\n",
    "test_acc_l = []\n",
    "\n",
    "for i, (images, labels) in enumerate(tqdm(testloader)):\n",
    "    images = images.to(DEVICE)\n",
    "    labels = labels.to(DEVICE)\n",
    "\n",
    "    # att_map, logits = model(images)\n",
    "    logits = basemodel(images)\n",
    "    test_loss = criterion(logits, labels)\n",
    "\n",
    "    test_loss += test_loss.detach().item()\n",
    "    _, predicted = torch.max(logits, 1)\n",
    "    test_acc += (predicted == labels).sum().item()\n",
    "print('Epoch: %d | Test Loss: %.4f' % (epoch+1, test_loss / i), end=\"\\t\")\n",
    "print('Epoch: %d | Test Acc: %.4f' % (epoch+1, test_acc / len(testset)))\n",
    "test_acc_l.append(test_acc / len(testset))\n",
    "test_loss_l.append(test_loss / i)"
   ]
  },
  {
   "cell_type": "code",
   "execution_count": null,
   "id": "8f37556b",
   "metadata": {},
   "outputs": [],
   "source": [
    "keys = ['test_acc', 'test_loss']\n",
    "values = [test_acc_l, test_loss_l]\n",
    "test_results = {keys[i]: values[i] for i in range(len(keys))}"
   ]
  },
  {
   "cell_type": "code",
   "execution_count": null,
   "id": "82ae7bb8",
   "metadata": {},
   "outputs": [],
   "source": [
    "test_df = pd.DataFrame.transpose(pd.DataFrame(test_results))\n",
    "train_df.to_csv (f\"./basemodel_test_results.csv\", index = True, header=True)"
   ]
  }
 ],
 "metadata": {
  "kernelspec": {
   "display_name": "Python 3",
   "language": "python",
   "name": "python3"
  },
  "language_info": {
   "codemirror_mode": {
    "name": "ipython",
    "version": 3
   },
   "file_extension": ".py",
   "mimetype": "text/x-python",
   "name": "python",
   "nbconvert_exporter": "python",
   "pygments_lexer": "ipython3",
   "version": "3.7.10"
  }
 },
 "nbformat": 4,
 "nbformat_minor": 5
}
